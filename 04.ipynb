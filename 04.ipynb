{
  "cells": [
    {
      "cell_type": "markdown",
      "metadata": {
        "id": "view-in-github",
        "colab_type": "text"
      },
      "source": [
        "<a href=\"https://colab.research.google.com/github/ntHieu03/Software_engineering_/blob/main/04.ipynb\" target=\"_parent\"><img src=\"https://colab.research.google.com/assets/colab-badge.svg\" alt=\"Open In Colab\"/></a>"
      ]
    },
    {
      "cell_type": "markdown",
      "metadata": {
        "pycharm": {
          "name": "#%% md\n"
        },
        "id": "a9Y5MSOOkglp"
      },
      "source": [
        "# Ex - GroupBy"
      ]
    },
    {
      "cell_type": "markdown",
      "metadata": {
        "pycharm": {
          "name": "#%% md\n"
        },
        "id": "1AWQ9RGikglz"
      },
      "source": [
        "### Introduction:\n",
        "\n",
        "GroupBy can be summarized as Split-Apply-Combine.\n",
        "\n",
        "Special thanks to: https://github.com/justmarkham for sharing the dataset and materials.\n",
        "\n",
        "Check out this [Diagram](http://i.imgur.com/yjNkiwL.png)  \n",
        "### Step 1. Import the necessary libraries"
      ]
    },
    {
      "cell_type": "code",
      "execution_count": null,
      "metadata": {
        "pycharm": {
          "name": "#%%\n"
        },
        "id": "CSl3qcBFkgl0"
      },
      "outputs": [],
      "source": [
        "import pandas as pd"
      ]
    },
    {
      "cell_type": "markdown",
      "metadata": {
        "pycharm": {
          "name": "#%% md\n"
        },
        "id": "-ccd_x5Ekgl0"
      },
      "source": [
        "### Step 2. Import the dataset from this [address](https://github.com/thieu1995/csv-files/blob/main/data/pandas/drinks.csv)."
      ]
    },
    {
      "cell_type": "code",
      "source": [],
      "metadata": {
        "id": "TZ5MH7v8lN81"
      },
      "execution_count": null,
      "outputs": []
    },
    {
      "cell_type": "markdown",
      "metadata": {
        "pycharm": {
          "name": "#%% md\n"
        },
        "id": "tY3XyPQqkgl0"
      },
      "source": [
        "### Step 3. Assign it to a variable called drinks."
      ]
    },
    {
      "cell_type": "code",
      "execution_count": null,
      "metadata": {
        "pycharm": {
          "name": "#%%\n"
        },
        "id": "ujnOMCpPkgl0"
      },
      "outputs": [],
      "source": [
        "drinks = pd.read_csv('drinks.csv')"
      ]
    },
    {
      "cell_type": "markdown",
      "metadata": {
        "pycharm": {
          "name": "#%% md\n"
        },
        "id": "GrvGgcu1kgl1"
      },
      "source": [
        "### Step 4. Which continent drinks more beer on average?"
      ]
    },
    {
      "cell_type": "code",
      "execution_count": 4,
      "metadata": {
        "pycharm": {
          "name": "#%%\n"
        },
        "id": "fNUwSbR_kgl1",
        "colab": {
          "base_uri": "https://localhost:8080/"
        },
        "outputId": "64c4a6a3-98b4-4d29-834e-9c8c0908fe95"
      },
      "outputs": [
        {
          "output_type": "stream",
          "name": "stdout",
          "text": [
            "Lục địa có lượng tiêu thụ bia trung bình cao nhất:  EU\n"
          ]
        }
      ],
      "source": [
        "continent_beer = drinks.groupby('continent')['beer_servings'].mean()\n",
        "continent_with_most_beer = continent_beer.idxmax()\n",
        "\n",
        "print(\"Lục địa có lượng tiêu thụ bia trung bình cao nhất: \", continent_with_most_beer)"
      ]
    },
    {
      "cell_type": "markdown",
      "metadata": {
        "pycharm": {
          "name": "#%% md\n"
        },
        "id": "OmDGXXrQkgl1"
      },
      "source": [
        "### Step 5. For each continent print the statistics for wine consumption."
      ]
    },
    {
      "cell_type": "code",
      "execution_count": 5,
      "metadata": {
        "pycharm": {
          "name": "#%%\n"
        },
        "id": "_0cUp26vkgl1",
        "colab": {
          "base_uri": "https://localhost:8080/"
        },
        "outputId": "42c21942-c475-41b6-9e4e-c321538d017b"
      },
      "outputs": [
        {
          "output_type": "stream",
          "name": "stdout",
          "text": [
            "           count        mean        std  min   25%    50%     75%    max\n",
            "continent                                                               \n",
            "AF          53.0   16.264151  38.846419  0.0   1.0    2.0   13.00  233.0\n",
            "AS          44.0    9.068182  21.667034  0.0   0.0    1.0    8.00  123.0\n",
            "EU          45.0  142.222222  97.421738  0.0  59.0  128.0  195.00  370.0\n",
            "OC          16.0   35.625000  64.555790  0.0   1.0    8.5   23.25  212.0\n",
            "SA          12.0   62.416667  88.620189  1.0   3.0   12.0   98.50  221.0\n"
          ]
        }
      ],
      "source": [
        "continent_wine_stats = drinks.groupby('continent')['wine_servings'].describe()\n",
        "print(continent_wine_stats)"
      ]
    },
    {
      "cell_type": "markdown",
      "metadata": {
        "pycharm": {
          "name": "#%% md\n"
        },
        "id": "DQi5cruOkgl1"
      },
      "source": [
        "### Step 6. Print the mean alcohol consumption per continent for every column"
      ]
    },
    {
      "cell_type": "code",
      "execution_count": 13,
      "metadata": {
        "pycharm": {
          "name": "#%%\n"
        },
        "id": "bDfrWWOskgl1",
        "colab": {
          "base_uri": "https://localhost:8080/"
        },
        "outputId": "8b1405a6-476a-476a-8511-54b24acaf91f"
      },
      "outputs": [
        {
          "output_type": "stream",
          "name": "stdout",
          "text": [
            "           wine_servings  total_litres_of_pure_alcohol  spirit_servings\n",
            "continent                                                              \n",
            "AF             16.264151                      3.007547        16.339623\n",
            "AS              9.068182                      2.170455        60.840909\n",
            "EU            142.222222                      8.617778       132.555556\n",
            "OC             35.625000                      3.381250        58.437500\n",
            "SA             62.416667                      6.308333       114.750000\n"
          ]
        },
        {
          "output_type": "stream",
          "name": "stderr",
          "text": [
            "<ipython-input-13-80c4c1d7a30b>:1: FutureWarning: Indexing with multiple keys (implicitly converted to a tuple of keys) will be deprecated, use a list instead.\n",
            "  continent_mean_alcohol = drinks.groupby('continent')['wine_servings','total_litres_of_pure_alcohol','spirit_servings'].mean()\n"
          ]
        }
      ],
      "source": [
        "continent_mean_alcohol = drinks.groupby('continent')['wine_servings','total_litres_of_pure_alcohol','spirit_servings'].mean()\n",
        "print(continent_mean_alcohol)"
      ]
    },
    {
      "cell_type": "markdown",
      "metadata": {
        "pycharm": {
          "name": "#%% md\n"
        },
        "id": "emy3g4VHkgl1"
      },
      "source": [
        "### Step 7. Print the median alcohol consumption per continent for every column"
      ]
    },
    {
      "cell_type": "code",
      "execution_count": 14,
      "metadata": {
        "pycharm": {
          "name": "#%%\n"
        },
        "id": "4laO6Ve-kgl2",
        "colab": {
          "base_uri": "https://localhost:8080/"
        },
        "outputId": "afd510d9-9c20-4622-cc0f-a65ba77f21ca"
      },
      "outputs": [
        {
          "output_type": "stream",
          "name": "stdout",
          "text": [
            "           wine_servings  total_litres_of_pure_alcohol  spirit_servings\n",
            "continent                                                              \n",
            "AF                   2.0                          2.30              3.0\n",
            "AS                   1.0                          1.20             16.0\n",
            "EU                 128.0                         10.00            122.0\n",
            "OC                   8.5                          1.75             37.0\n",
            "SA                  12.0                          6.85            108.5\n"
          ]
        },
        {
          "output_type": "stream",
          "name": "stderr",
          "text": [
            "<ipython-input-14-209409a4eed9>:1: FutureWarning: Indexing with multiple keys (implicitly converted to a tuple of keys) will be deprecated, use a list instead.\n",
            "  continent_median_alcohol = drinks.groupby('continent')['wine_servings','total_litres_of_pure_alcohol','spirit_servings'].median()\n"
          ]
        }
      ],
      "source": [
        "continent_median_alcohol = drinks.groupby('continent')['wine_servings','total_litres_of_pure_alcohol','spirit_servings'].median()\n",
        "print(continent_median_alcohol)"
      ]
    },
    {
      "cell_type": "markdown",
      "metadata": {
        "pycharm": {
          "name": "#%% md\n"
        },
        "id": "JXeWFNA1kgl2"
      },
      "source": [
        "### Step 8. Print the mean, min and max values for spirit consumption.\n",
        "#### This time output a DataFrame"
      ]
    },
    {
      "cell_type": "code",
      "execution_count": 15,
      "metadata": {
        "pycharm": {
          "name": "#%%\n"
        },
        "id": "zd8WCfRSkgl2",
        "colab": {
          "base_uri": "https://localhost:8080/"
        },
        "outputId": "21958d75-fdfa-49b3-d5b5-bcbcf582777a"
      },
      "outputs": [
        {
          "output_type": "stream",
          "name": "stdout",
          "text": [
            "        Thống kê\n",
            "mean   80.994819\n",
            "min     0.000000\n",
            "max   438.000000\n"
          ]
        }
      ],
      "source": [
        "spirit_stats = drinks['spirit_servings'].agg(['mean', 'min', 'max']).to_frame().rename(columns={'spirit_servings': 'Thống kê'})\n",
        "print(spirit_stats)"
      ]
    }
  ],
  "metadata": {
    "kernelspec": {
      "display_name": "Python 2",
      "language": "python",
      "name": "python2"
    },
    "language_info": {
      "codemirror_mode": {
        "name": "ipython",
        "version": 2
      },
      "file_extension": ".py",
      "mimetype": "text/x-python",
      "name": "python",
      "nbconvert_exporter": "python",
      "pygments_lexer": "ipython2",
      "version": "2.7.16"
    },
    "colab": {
      "provenance": [],
      "include_colab_link": true
    }
  },
  "nbformat": 4,
  "nbformat_minor": 0
}